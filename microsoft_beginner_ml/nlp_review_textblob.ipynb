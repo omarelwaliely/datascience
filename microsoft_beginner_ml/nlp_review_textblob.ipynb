{
 "cells": [
  {
   "cell_type": "code",
   "execution_count": 2,
   "metadata": {},
   "outputs": [],
   "source": [
    "from textblob import TextBlob\n",
    "from textblob.np_extractors import ConllExtractor\n",
    "import random"
   ]
  },
  {
   "cell_type": "markdown",
   "metadata": {},
   "source": [
    "1- Print instructions advising the user how to interact with the bot\n",
    "2- Accept user input\n",
    "3- If user has asked to exit, then exit\n",
    "4- Process user input and determine response (before the techniques it will be random)\n",
    "5- Go back to step 3"
   ]
  },
  {
   "cell_type": "code",
   "execution_count": 3,
   "metadata": {},
   "outputs": [],
   "source": [
    "responses = [\"And?\",\n",
    "                    \"Keep it coming!\",\n",
    "                    \"What? That makes no sense?\",\n",
    "                    \"I don't like this topic let's talk about something else.\",\n",
    "                    \"Idk about that one\",\n",
    "                    \"How?\", \n",
    "                    ]"
   ]
  },
  {
   "cell_type": "code",
   "execution_count": 4,
   "metadata": {},
   "outputs": [
    {
     "name": "stdout",
     "output_type": "stream",
     "text": [
      "Hello, I am a simple robot.\n",
      "You can end this conversation by typing 'bye'\n",
      "How are you today?\n"
     ]
    }
   ],
   "source": [
    "print(\"Hello, I am a simple robot.\")\n",
    "print(\"You can end this conversation by typing 'bye'\")\n",
    "print(\"How are you today?\")"
   ]
  },
  {
   "cell_type": "code",
   "execution_count": 5,
   "metadata": {},
   "outputs": [
    {
     "name": "stdout",
     "output_type": "stream",
     "text": [
      "I don't like this topic let's talk about something else.\n",
      "And?\n",
      "And?\n",
      "What? That makes no sense?\n",
      "How?\n",
      "I don't like this topic let's talk about something else.\n",
      "Idk about that one\n",
      "What? That makes no sense?\n",
      "Idk about that one\n",
      "Keep it coming!\n",
      "Keep it coming!\n",
      "Keep it coming!\n",
      "And?\n",
      "I don't like this topic let's talk about something else.\n",
      "Idk about that one\n",
      "Keep it coming!\n",
      "And?\n",
      "Idk about that one\n",
      "I don't like this topic let's talk about something else.\n",
      "It was nice talking to you, goodbye!\n"
     ]
    }
   ],
   "source": [
    "while True:\n",
    "    user_input = input(\"> \")\n",
    "    if user_input.lower() == \"bye\":\n",
    "        break\n",
    "    else:\n",
    "        response = random.choices(responses)[0]\n",
    "    print(response)\n",
    "\n",
    "print(\"It was nice talking to you, goodbye!\")"
   ]
  },
  {
   "cell_type": "code",
   "execution_count": 6,
   "metadata": {},
   "outputs": [
    {
     "data": {
      "text/plain": [
       "WordList([])"
      ]
     },
     "execution_count": 6,
     "metadata": {},
     "output_type": "execute_result"
    }
   ],
   "source": [
    "extractor = ConllExtractor()\n",
    "user_input = input(\"> \")\n",
    "user_input_blob = TextBlob(user_input, np_extractor=extractor)  # note non-default extractor specified\n",
    "np = user_input_blob.noun_phrases\n",
    "np"
   ]
  },
  {
   "cell_type": "code",
   "execution_count": 7,
   "metadata": {},
   "outputs": [
    {
     "name": "stdout",
     "output_type": "stream",
     "text": [
      "0.0\n",
      "It was nice talking to you, goodbye!\n"
     ]
    }
   ],
   "source": [
    "while True:\n",
    "    user_input = input(\"> \")\n",
    "    user_input_blob = TextBlob(user_input, np_extractor=extractor)\n",
    "    print(user_input_blob.polarity)\n",
    "    if user_input.lower() == \"bye\":\n",
    "        break\n",
    "    elif user_input_blob.polarity  <= -0.5:\n",
    "        response = \"That doesn't sound very good, what else do you have one your mind?\" \n",
    "    elif user_input_blob.polarity  <= 0:\n",
    "        response = \"Thats not cool man, anything else you want to add?\" \n",
    "    else:\n",
    "        response = \"That's awesome, what else do you have one your mind?\" \n",
    "    print(response)\n",
    "\n",
    "print(\"It was nice talking to you, goodbye!\")"
   ]
  },
  {
   "cell_type": "code",
   "execution_count": 10,
   "metadata": {},
   "outputs": [
    {
     "name": "stdout",
     "output_type": "stream",
     "text": [
      "I hate everything has a sentiment of Sentiment(polarity=-0.8, subjectivity=0.9)\n",
      "I am not having fun has a sentiment of Sentiment(polarity=0.3, subjectivity=0.2)\n"
     ]
    }
   ],
   "source": [
    "test1 = \"I hate everything\"\n",
    "test2 = \"I am having fun\"\n",
    "\n",
    "sentiment1 = TextBlob(test1).sentiment\n",
    "sentiment2 = TextBlob(test2).sentiment\n",
    "\n",
    "print(test1 + \" has a sentiment of \" + str(sentiment1))\n",
    "print(test2 + \" has a sentiment of \" + str(sentiment2))"
   ]
  },
  {
   "cell_type": "code",
   "execution_count": null,
   "metadata": {},
   "outputs": [],
   "source": []
  }
 ],
 "metadata": {
  "kernelspec": {
   "display_name": "tweleve",
   "language": "python",
   "name": "python3"
  },
  "language_info": {
   "codemirror_mode": {
    "name": "ipython",
    "version": 3
   },
   "file_extension": ".py",
   "mimetype": "text/x-python",
   "name": "python",
   "nbconvert_exporter": "python",
   "pygments_lexer": "ipython3",
   "version": "3.12.1"
  }
 },
 "nbformat": 4,
 "nbformat_minor": 2
}
