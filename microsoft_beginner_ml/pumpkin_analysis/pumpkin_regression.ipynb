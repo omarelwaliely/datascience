{
 "cells": [
  {
   "cell_type": "code",
   "execution_count": 967,
   "metadata": {},
   "outputs": [],
   "source": [
    "import pandas as pd\n",
    "import numpy as np\n",
    "import matplotlib.pyplot as plt\n",
    "import datetime as dt\n",
    "from sklearn.linear_model import LinearRegression\n",
    "from sklearn.metrics import mean_squared_error\n",
    "from sklearn.model_selection import train_test_split\n",
    "from sklearn.preprocessing import PolynomialFeatures\n",
    "from sklearn.pipeline import make_pipeline"
   ]
  },
  {
   "cell_type": "code",
   "execution_count": 968,
   "metadata": {},
   "outputs": [
    {
     "data": {
      "text/html": [
       "<div>\n",
       "<style scoped>\n",
       "    .dataframe tbody tr th:only-of-type {\n",
       "        vertical-align: middle;\n",
       "    }\n",
       "\n",
       "    .dataframe tbody tr th {\n",
       "        vertical-align: top;\n",
       "    }\n",
       "\n",
       "    .dataframe thead th {\n",
       "        text-align: right;\n",
       "    }\n",
       "</style>\n",
       "<table border=\"1\" class=\"dataframe\">\n",
       "  <thead>\n",
       "    <tr style=\"text-align: right;\">\n",
       "      <th></th>\n",
       "      <th>City Name</th>\n",
       "      <th>Type</th>\n",
       "      <th>Package</th>\n",
       "      <th>Variety</th>\n",
       "      <th>Sub Variety</th>\n",
       "      <th>Grade</th>\n",
       "      <th>Date</th>\n",
       "      <th>Low Price</th>\n",
       "      <th>High Price</th>\n",
       "      <th>Mostly Low</th>\n",
       "      <th>...</th>\n",
       "      <th>Unit of Sale</th>\n",
       "      <th>Quality</th>\n",
       "      <th>Condition</th>\n",
       "      <th>Appearance</th>\n",
       "      <th>Storage</th>\n",
       "      <th>Crop</th>\n",
       "      <th>Repack</th>\n",
       "      <th>Trans Mode</th>\n",
       "      <th>Unnamed: 24</th>\n",
       "      <th>Unnamed: 25</th>\n",
       "    </tr>\n",
       "  </thead>\n",
       "  <tbody>\n",
       "    <tr>\n",
       "      <th>0</th>\n",
       "      <td>BALTIMORE</td>\n",
       "      <td>NaN</td>\n",
       "      <td>24 inch bins</td>\n",
       "      <td>NaN</td>\n",
       "      <td>NaN</td>\n",
       "      <td>NaN</td>\n",
       "      <td>4/29/17</td>\n",
       "      <td>270.00</td>\n",
       "      <td>280.00</td>\n",
       "      <td>270.0</td>\n",
       "      <td>...</td>\n",
       "      <td>NaN</td>\n",
       "      <td>NaN</td>\n",
       "      <td>NaN</td>\n",
       "      <td>NaN</td>\n",
       "      <td>NaN</td>\n",
       "      <td>NaN</td>\n",
       "      <td>E</td>\n",
       "      <td>NaN</td>\n",
       "      <td>NaN</td>\n",
       "      <td>NaN</td>\n",
       "    </tr>\n",
       "    <tr>\n",
       "      <th>1</th>\n",
       "      <td>BALTIMORE</td>\n",
       "      <td>NaN</td>\n",
       "      <td>24 inch bins</td>\n",
       "      <td>NaN</td>\n",
       "      <td>NaN</td>\n",
       "      <td>NaN</td>\n",
       "      <td>5/6/17</td>\n",
       "      <td>270.00</td>\n",
       "      <td>280.00</td>\n",
       "      <td>270.0</td>\n",
       "      <td>...</td>\n",
       "      <td>NaN</td>\n",
       "      <td>NaN</td>\n",
       "      <td>NaN</td>\n",
       "      <td>NaN</td>\n",
       "      <td>NaN</td>\n",
       "      <td>NaN</td>\n",
       "      <td>E</td>\n",
       "      <td>NaN</td>\n",
       "      <td>NaN</td>\n",
       "      <td>NaN</td>\n",
       "    </tr>\n",
       "    <tr>\n",
       "      <th>2</th>\n",
       "      <td>BALTIMORE</td>\n",
       "      <td>NaN</td>\n",
       "      <td>24 inch bins</td>\n",
       "      <td>HOWDEN TYPE</td>\n",
       "      <td>NaN</td>\n",
       "      <td>NaN</td>\n",
       "      <td>9/24/16</td>\n",
       "      <td>160.00</td>\n",
       "      <td>160.00</td>\n",
       "      <td>160.0</td>\n",
       "      <td>...</td>\n",
       "      <td>NaN</td>\n",
       "      <td>NaN</td>\n",
       "      <td>NaN</td>\n",
       "      <td>NaN</td>\n",
       "      <td>NaN</td>\n",
       "      <td>NaN</td>\n",
       "      <td>N</td>\n",
       "      <td>NaN</td>\n",
       "      <td>NaN</td>\n",
       "      <td>NaN</td>\n",
       "    </tr>\n",
       "    <tr>\n",
       "      <th>3</th>\n",
       "      <td>BALTIMORE</td>\n",
       "      <td>NaN</td>\n",
       "      <td>24 inch bins</td>\n",
       "      <td>HOWDEN TYPE</td>\n",
       "      <td>NaN</td>\n",
       "      <td>NaN</td>\n",
       "      <td>9/24/16</td>\n",
       "      <td>160.00</td>\n",
       "      <td>160.00</td>\n",
       "      <td>160.0</td>\n",
       "      <td>...</td>\n",
       "      <td>NaN</td>\n",
       "      <td>NaN</td>\n",
       "      <td>NaN</td>\n",
       "      <td>NaN</td>\n",
       "      <td>NaN</td>\n",
       "      <td>NaN</td>\n",
       "      <td>N</td>\n",
       "      <td>NaN</td>\n",
       "      <td>NaN</td>\n",
       "      <td>NaN</td>\n",
       "    </tr>\n",
       "    <tr>\n",
       "      <th>4</th>\n",
       "      <td>BALTIMORE</td>\n",
       "      <td>NaN</td>\n",
       "      <td>24 inch bins</td>\n",
       "      <td>HOWDEN TYPE</td>\n",
       "      <td>NaN</td>\n",
       "      <td>NaN</td>\n",
       "      <td>11/5/16</td>\n",
       "      <td>90.00</td>\n",
       "      <td>100.00</td>\n",
       "      <td>90.0</td>\n",
       "      <td>...</td>\n",
       "      <td>NaN</td>\n",
       "      <td>NaN</td>\n",
       "      <td>NaN</td>\n",
       "      <td>NaN</td>\n",
       "      <td>NaN</td>\n",
       "      <td>NaN</td>\n",
       "      <td>N</td>\n",
       "      <td>NaN</td>\n",
       "      <td>NaN</td>\n",
       "      <td>NaN</td>\n",
       "    </tr>\n",
       "    <tr>\n",
       "      <th>...</th>\n",
       "      <td>...</td>\n",
       "      <td>...</td>\n",
       "      <td>...</td>\n",
       "      <td>...</td>\n",
       "      <td>...</td>\n",
       "      <td>...</td>\n",
       "      <td>...</td>\n",
       "      <td>...</td>\n",
       "      <td>...</td>\n",
       "      <td>...</td>\n",
       "      <td>...</td>\n",
       "      <td>...</td>\n",
       "      <td>...</td>\n",
       "      <td>...</td>\n",
       "      <td>...</td>\n",
       "      <td>...</td>\n",
       "      <td>...</td>\n",
       "      <td>...</td>\n",
       "      <td>...</td>\n",
       "      <td>...</td>\n",
       "      <td>...</td>\n",
       "    </tr>\n",
       "    <tr>\n",
       "      <th>1752</th>\n",
       "      <td>ST. LOUIS</td>\n",
       "      <td>NaN</td>\n",
       "      <td>22 lb cartons</td>\n",
       "      <td>MINIATURE</td>\n",
       "      <td>FLAT TYPE</td>\n",
       "      <td>NaN</td>\n",
       "      <td>9/30/16</td>\n",
       "      <td>14.75</td>\n",
       "      <td>14.75</td>\n",
       "      <td>NaN</td>\n",
       "      <td>...</td>\n",
       "      <td>NaN</td>\n",
       "      <td>NaN</td>\n",
       "      <td>NaN</td>\n",
       "      <td>NaN</td>\n",
       "      <td>NaN</td>\n",
       "      <td>NaN</td>\n",
       "      <td>N</td>\n",
       "      <td>NaN</td>\n",
       "      <td>NaN</td>\n",
       "      <td>LOWER.</td>\n",
       "    </tr>\n",
       "    <tr>\n",
       "      <th>1753</th>\n",
       "      <td>ST. LOUIS</td>\n",
       "      <td>NaN</td>\n",
       "      <td>36 inch bins</td>\n",
       "      <td>MINIATURE</td>\n",
       "      <td>ROUND TYPE</td>\n",
       "      <td>NaN</td>\n",
       "      <td>9/26/16</td>\n",
       "      <td>275.00</td>\n",
       "      <td>275.00</td>\n",
       "      <td>NaN</td>\n",
       "      <td>...</td>\n",
       "      <td>NaN</td>\n",
       "      <td>NaN</td>\n",
       "      <td>NaN</td>\n",
       "      <td>NaN</td>\n",
       "      <td>NaN</td>\n",
       "      <td>NaN</td>\n",
       "      <td>N</td>\n",
       "      <td>NaN</td>\n",
       "      <td>NaN</td>\n",
       "      <td>LOWER.</td>\n",
       "    </tr>\n",
       "    <tr>\n",
       "      <th>1754</th>\n",
       "      <td>ST. LOUIS</td>\n",
       "      <td>NaN</td>\n",
       "      <td>36 inch bins</td>\n",
       "      <td>MINIATURE</td>\n",
       "      <td>ROUND TYPE</td>\n",
       "      <td>NaN</td>\n",
       "      <td>9/27/16</td>\n",
       "      <td>275.00</td>\n",
       "      <td>275.00</td>\n",
       "      <td>NaN</td>\n",
       "      <td>...</td>\n",
       "      <td>NaN</td>\n",
       "      <td>NaN</td>\n",
       "      <td>NaN</td>\n",
       "      <td>NaN</td>\n",
       "      <td>NaN</td>\n",
       "      <td>NaN</td>\n",
       "      <td>N</td>\n",
       "      <td>NaN</td>\n",
       "      <td>NaN</td>\n",
       "      <td>STEADY.</td>\n",
       "    </tr>\n",
       "    <tr>\n",
       "      <th>1755</th>\n",
       "      <td>ST. LOUIS</td>\n",
       "      <td>NaN</td>\n",
       "      <td>36 inch bins</td>\n",
       "      <td>MINIATURE</td>\n",
       "      <td>ROUND TYPE</td>\n",
       "      <td>NaN</td>\n",
       "      <td>9/28/16</td>\n",
       "      <td>275.00</td>\n",
       "      <td>275.00</td>\n",
       "      <td>NaN</td>\n",
       "      <td>...</td>\n",
       "      <td>NaN</td>\n",
       "      <td>NaN</td>\n",
       "      <td>NaN</td>\n",
       "      <td>NaN</td>\n",
       "      <td>NaN</td>\n",
       "      <td>NaN</td>\n",
       "      <td>N</td>\n",
       "      <td>NaN</td>\n",
       "      <td>NaN</td>\n",
       "      <td>ABOUT STEADY.</td>\n",
       "    </tr>\n",
       "    <tr>\n",
       "      <th>1756</th>\n",
       "      <td>ST. LOUIS</td>\n",
       "      <td>NaN</td>\n",
       "      <td>36 inch bins</td>\n",
       "      <td>MINIATURE</td>\n",
       "      <td>ROUND TYPE</td>\n",
       "      <td>NaN</td>\n",
       "      <td>9/29/16</td>\n",
       "      <td>275.00</td>\n",
       "      <td>275.00</td>\n",
       "      <td>NaN</td>\n",
       "      <td>...</td>\n",
       "      <td>NaN</td>\n",
       "      <td>NaN</td>\n",
       "      <td>NaN</td>\n",
       "      <td>NaN</td>\n",
       "      <td>NaN</td>\n",
       "      <td>NaN</td>\n",
       "      <td>N</td>\n",
       "      <td>NaN</td>\n",
       "      <td>NaN</td>\n",
       "      <td>MINIATURE LOWER, OTHERS STEADY.</td>\n",
       "    </tr>\n",
       "  </tbody>\n",
       "</table>\n",
       "<p>1757 rows × 26 columns</p>\n",
       "</div>"
      ],
      "text/plain": [
       "      City Name Type        Package      Variety Sub Variety  Grade     Date  \\\n",
       "0     BALTIMORE  NaN   24 inch bins          NaN         NaN    NaN  4/29/17   \n",
       "1     BALTIMORE  NaN   24 inch bins          NaN         NaN    NaN   5/6/17   \n",
       "2     BALTIMORE  NaN   24 inch bins  HOWDEN TYPE         NaN    NaN  9/24/16   \n",
       "3     BALTIMORE  NaN   24 inch bins  HOWDEN TYPE         NaN    NaN  9/24/16   \n",
       "4     BALTIMORE  NaN   24 inch bins  HOWDEN TYPE         NaN    NaN  11/5/16   \n",
       "...         ...  ...            ...          ...         ...    ...      ...   \n",
       "1752  ST. LOUIS  NaN  22 lb cartons    MINIATURE   FLAT TYPE    NaN  9/30/16   \n",
       "1753  ST. LOUIS  NaN   36 inch bins    MINIATURE  ROUND TYPE    NaN  9/26/16   \n",
       "1754  ST. LOUIS  NaN   36 inch bins    MINIATURE  ROUND TYPE    NaN  9/27/16   \n",
       "1755  ST. LOUIS  NaN   36 inch bins    MINIATURE  ROUND TYPE    NaN  9/28/16   \n",
       "1756  ST. LOUIS  NaN   36 inch bins    MINIATURE  ROUND TYPE    NaN  9/29/16   \n",
       "\n",
       "      Low Price  High Price  Mostly Low  ...  Unit of Sale Quality Condition  \\\n",
       "0        270.00      280.00       270.0  ...           NaN     NaN       NaN   \n",
       "1        270.00      280.00       270.0  ...           NaN     NaN       NaN   \n",
       "2        160.00      160.00       160.0  ...           NaN     NaN       NaN   \n",
       "3        160.00      160.00       160.0  ...           NaN     NaN       NaN   \n",
       "4         90.00      100.00        90.0  ...           NaN     NaN       NaN   \n",
       "...         ...         ...         ...  ...           ...     ...       ...   \n",
       "1752      14.75       14.75         NaN  ...           NaN     NaN       NaN   \n",
       "1753     275.00      275.00         NaN  ...           NaN     NaN       NaN   \n",
       "1754     275.00      275.00         NaN  ...           NaN     NaN       NaN   \n",
       "1755     275.00      275.00         NaN  ...           NaN     NaN       NaN   \n",
       "1756     275.00      275.00         NaN  ...           NaN     NaN       NaN   \n",
       "\n",
       "     Appearance Storage  Crop Repack  Trans Mode  Unnamed: 24  \\\n",
       "0           NaN     NaN   NaN      E         NaN          NaN   \n",
       "1           NaN     NaN   NaN      E         NaN          NaN   \n",
       "2           NaN     NaN   NaN      N         NaN          NaN   \n",
       "3           NaN     NaN   NaN      N         NaN          NaN   \n",
       "4           NaN     NaN   NaN      N         NaN          NaN   \n",
       "...         ...     ...   ...    ...         ...          ...   \n",
       "1752        NaN     NaN   NaN      N         NaN          NaN   \n",
       "1753        NaN     NaN   NaN      N         NaN          NaN   \n",
       "1754        NaN     NaN   NaN      N         NaN          NaN   \n",
       "1755        NaN     NaN   NaN      N         NaN          NaN   \n",
       "1756        NaN     NaN   NaN      N         NaN          NaN   \n",
       "\n",
       "                          Unnamed: 25  \n",
       "0                                 NaN  \n",
       "1                                 NaN  \n",
       "2                                 NaN  \n",
       "3                                 NaN  \n",
       "4                                 NaN  \n",
       "...                               ...  \n",
       "1752                           LOWER.  \n",
       "1753                           LOWER.  \n",
       "1754                          STEADY.  \n",
       "1755                    ABOUT STEADY.  \n",
       "1756  MINIATURE LOWER, OTHERS STEADY.  \n",
       "\n",
       "[1757 rows x 26 columns]"
      ]
     },
     "execution_count": 968,
     "metadata": {},
     "output_type": "execute_result"
    }
   ],
   "source": [
    "pumpkins = pd.read_csv('pumpkin.csv')\n",
    "pumpkins"
   ]
  },
  {
   "cell_type": "markdown",
   "metadata": {},
   "source": [
    "By the bushel"
   ]
  },
  {
   "cell_type": "code",
   "execution_count": 969,
   "metadata": {},
   "outputs": [],
   "source": [
    "pumpkins = pumpkins[pumpkins['Package'].str.contains('bushel', case=True, regex=True)]"
   ]
  },
  {
   "cell_type": "code",
   "execution_count": 970,
   "metadata": {},
   "outputs": [
    {
     "data": {
      "text/plain": [
       "City Name            0\n",
       "Type               406\n",
       "Package              0\n",
       "Variety              0\n",
       "Sub Variety        167\n",
       "Grade              415\n",
       "Date                 0\n",
       "Low Price            0\n",
       "High Price           0\n",
       "Mostly Low          24\n",
       "Mostly High         24\n",
       "Origin               0\n",
       "Origin District    396\n",
       "Item Size          114\n",
       "Color              145\n",
       "Environment        415\n",
       "Unit of Sale       404\n",
       "Quality            415\n",
       "Condition          415\n",
       "Appearance         415\n",
       "Storage            415\n",
       "Crop               415\n",
       "Repack               0\n",
       "Trans Mode         415\n",
       "Unnamed: 24        415\n",
       "Unnamed: 25        391\n",
       "dtype: int64"
      ]
     },
     "execution_count": 970,
     "metadata": {},
     "output_type": "execute_result"
    }
   ],
   "source": [
    "pumpkins.isnull().sum()"
   ]
  },
  {
   "cell_type": "code",
   "execution_count": 971,
   "metadata": {},
   "outputs": [
    {
     "data": {
      "text/html": [
       "<div>\n",
       "<style scoped>\n",
       "    .dataframe tbody tr th:only-of-type {\n",
       "        vertical-align: middle;\n",
       "    }\n",
       "\n",
       "    .dataframe tbody tr th {\n",
       "        vertical-align: top;\n",
       "    }\n",
       "\n",
       "    .dataframe thead th {\n",
       "        text-align: right;\n",
       "    }\n",
       "</style>\n",
       "<table border=\"1\" class=\"dataframe\">\n",
       "  <thead>\n",
       "    <tr style=\"text-align: right;\">\n",
       "      <th></th>\n",
       "      <th>Package</th>\n",
       "      <th>Variety</th>\n",
       "      <th>City Name</th>\n",
       "      <th>Low Price</th>\n",
       "      <th>High Price</th>\n",
       "      <th>Date</th>\n",
       "    </tr>\n",
       "  </thead>\n",
       "  <tbody>\n",
       "    <tr>\n",
       "      <th>70</th>\n",
       "      <td>1 1/9 bushel cartons</td>\n",
       "      <td>PIE TYPE</td>\n",
       "      <td>BALTIMORE</td>\n",
       "      <td>15.00</td>\n",
       "      <td>15.0</td>\n",
       "      <td>9/24/16</td>\n",
       "    </tr>\n",
       "    <tr>\n",
       "      <th>71</th>\n",
       "      <td>1 1/9 bushel cartons</td>\n",
       "      <td>PIE TYPE</td>\n",
       "      <td>BALTIMORE</td>\n",
       "      <td>18.00</td>\n",
       "      <td>18.0</td>\n",
       "      <td>9/24/16</td>\n",
       "    </tr>\n",
       "    <tr>\n",
       "      <th>72</th>\n",
       "      <td>1 1/9 bushel cartons</td>\n",
       "      <td>PIE TYPE</td>\n",
       "      <td>BALTIMORE</td>\n",
       "      <td>18.00</td>\n",
       "      <td>18.0</td>\n",
       "      <td>10/1/16</td>\n",
       "    </tr>\n",
       "    <tr>\n",
       "      <th>73</th>\n",
       "      <td>1 1/9 bushel cartons</td>\n",
       "      <td>PIE TYPE</td>\n",
       "      <td>BALTIMORE</td>\n",
       "      <td>17.00</td>\n",
       "      <td>17.0</td>\n",
       "      <td>10/1/16</td>\n",
       "    </tr>\n",
       "    <tr>\n",
       "      <th>74</th>\n",
       "      <td>1 1/9 bushel cartons</td>\n",
       "      <td>PIE TYPE</td>\n",
       "      <td>BALTIMORE</td>\n",
       "      <td>15.00</td>\n",
       "      <td>15.0</td>\n",
       "      <td>10/8/16</td>\n",
       "    </tr>\n",
       "    <tr>\n",
       "      <th>...</th>\n",
       "      <td>...</td>\n",
       "      <td>...</td>\n",
       "      <td>...</td>\n",
       "      <td>...</td>\n",
       "      <td>...</td>\n",
       "      <td>...</td>\n",
       "    </tr>\n",
       "    <tr>\n",
       "      <th>1738</th>\n",
       "      <td>1/2 bushel cartons</td>\n",
       "      <td>MINIATURE</td>\n",
       "      <td>ST. LOUIS</td>\n",
       "      <td>15.00</td>\n",
       "      <td>15.0</td>\n",
       "      <td>9/30/16</td>\n",
       "    </tr>\n",
       "    <tr>\n",
       "      <th>1739</th>\n",
       "      <td>1/2 bushel cartons</td>\n",
       "      <td>MINIATURE</td>\n",
       "      <td>ST. LOUIS</td>\n",
       "      <td>13.75</td>\n",
       "      <td>15.0</td>\n",
       "      <td>9/30/16</td>\n",
       "    </tr>\n",
       "    <tr>\n",
       "      <th>1740</th>\n",
       "      <td>1/2 bushel cartons</td>\n",
       "      <td>MINIATURE</td>\n",
       "      <td>ST. LOUIS</td>\n",
       "      <td>10.75</td>\n",
       "      <td>15.0</td>\n",
       "      <td>9/30/16</td>\n",
       "    </tr>\n",
       "    <tr>\n",
       "      <th>1741</th>\n",
       "      <td>1/2 bushel cartons</td>\n",
       "      <td>MINIATURE</td>\n",
       "      <td>ST. LOUIS</td>\n",
       "      <td>12.00</td>\n",
       "      <td>12.0</td>\n",
       "      <td>9/30/16</td>\n",
       "    </tr>\n",
       "    <tr>\n",
       "      <th>1742</th>\n",
       "      <td>1/2 bushel cartons</td>\n",
       "      <td>MINIATURE</td>\n",
       "      <td>ST. LOUIS</td>\n",
       "      <td>12.00</td>\n",
       "      <td>12.0</td>\n",
       "      <td>9/30/16</td>\n",
       "    </tr>\n",
       "  </tbody>\n",
       "</table>\n",
       "<p>415 rows × 6 columns</p>\n",
       "</div>"
      ],
      "text/plain": [
       "                   Package    Variety  City Name  Low Price  High Price  \\\n",
       "70    1 1/9 bushel cartons   PIE TYPE  BALTIMORE      15.00        15.0   \n",
       "71    1 1/9 bushel cartons   PIE TYPE  BALTIMORE      18.00        18.0   \n",
       "72    1 1/9 bushel cartons   PIE TYPE  BALTIMORE      18.00        18.0   \n",
       "73    1 1/9 bushel cartons   PIE TYPE  BALTIMORE      17.00        17.0   \n",
       "74    1 1/9 bushel cartons   PIE TYPE  BALTIMORE      15.00        15.0   \n",
       "...                    ...        ...        ...        ...         ...   \n",
       "1738    1/2 bushel cartons  MINIATURE  ST. LOUIS      15.00        15.0   \n",
       "1739    1/2 bushel cartons  MINIATURE  ST. LOUIS      13.75        15.0   \n",
       "1740    1/2 bushel cartons  MINIATURE  ST. LOUIS      10.75        15.0   \n",
       "1741    1/2 bushel cartons  MINIATURE  ST. LOUIS      12.00        12.0   \n",
       "1742    1/2 bushel cartons  MINIATURE  ST. LOUIS      12.00        12.0   \n",
       "\n",
       "         Date  \n",
       "70    9/24/16  \n",
       "71    9/24/16  \n",
       "72    10/1/16  \n",
       "73    10/1/16  \n",
       "74    10/8/16  \n",
       "...       ...  \n",
       "1738  9/30/16  \n",
       "1739  9/30/16  \n",
       "1740  9/30/16  \n",
       "1741  9/30/16  \n",
       "1742  9/30/16  \n",
       "\n",
       "[415 rows x 6 columns]"
      ]
     },
     "execution_count": 971,
     "metadata": {},
     "output_type": "execute_result"
    }
   ],
   "source": [
    "columns =  ['Package', 'Variety', 'City Name', 'Low Price', 'High Price', 'Date']\n",
    "pumpkins = pumpkins[columns]\n",
    "pumpkins"
   ]
  },
  {
   "cell_type": "markdown",
   "metadata": {},
   "source": [
    "Find Average Price for a given month"
   ]
  },
  {
   "cell_type": "code",
   "execution_count": 972,
   "metadata": {},
   "outputs": [
    {
     "data": {
      "text/html": [
       "<div>\n",
       "<style scoped>\n",
       "    .dataframe tbody tr th:only-of-type {\n",
       "        vertical-align: middle;\n",
       "    }\n",
       "\n",
       "    .dataframe tbody tr th {\n",
       "        vertical-align: top;\n",
       "    }\n",
       "\n",
       "    .dataframe thead th {\n",
       "        text-align: right;\n",
       "    }\n",
       "</style>\n",
       "<table border=\"1\" class=\"dataframe\">\n",
       "  <thead>\n",
       "    <tr style=\"text-align: right;\">\n",
       "      <th></th>\n",
       "      <th>Package</th>\n",
       "      <th>Variety</th>\n",
       "      <th>City Name</th>\n",
       "      <th>Low Price</th>\n",
       "      <th>High Price</th>\n",
       "      <th>Date</th>\n",
       "      <th>Price</th>\n",
       "      <th>Month</th>\n",
       "      <th>DayOfYear</th>\n",
       "    </tr>\n",
       "  </thead>\n",
       "  <tbody>\n",
       "    <tr>\n",
       "      <th>70</th>\n",
       "      <td>1 1/9 bushel cartons</td>\n",
       "      <td>PIE TYPE</td>\n",
       "      <td>BALTIMORE</td>\n",
       "      <td>15.00</td>\n",
       "      <td>15.0</td>\n",
       "      <td>2016-09-24</td>\n",
       "      <td>13.50</td>\n",
       "      <td>9</td>\n",
       "      <td>268</td>\n",
       "    </tr>\n",
       "    <tr>\n",
       "      <th>71</th>\n",
       "      <td>1 1/9 bushel cartons</td>\n",
       "      <td>PIE TYPE</td>\n",
       "      <td>BALTIMORE</td>\n",
       "      <td>18.00</td>\n",
       "      <td>18.0</td>\n",
       "      <td>2016-09-24</td>\n",
       "      <td>16.20</td>\n",
       "      <td>9</td>\n",
       "      <td>268</td>\n",
       "    </tr>\n",
       "    <tr>\n",
       "      <th>72</th>\n",
       "      <td>1 1/9 bushel cartons</td>\n",
       "      <td>PIE TYPE</td>\n",
       "      <td>BALTIMORE</td>\n",
       "      <td>18.00</td>\n",
       "      <td>18.0</td>\n",
       "      <td>2016-10-01</td>\n",
       "      <td>16.20</td>\n",
       "      <td>10</td>\n",
       "      <td>275</td>\n",
       "    </tr>\n",
       "    <tr>\n",
       "      <th>73</th>\n",
       "      <td>1 1/9 bushel cartons</td>\n",
       "      <td>PIE TYPE</td>\n",
       "      <td>BALTIMORE</td>\n",
       "      <td>17.00</td>\n",
       "      <td>17.0</td>\n",
       "      <td>2016-10-01</td>\n",
       "      <td>15.30</td>\n",
       "      <td>10</td>\n",
       "      <td>275</td>\n",
       "    </tr>\n",
       "    <tr>\n",
       "      <th>74</th>\n",
       "      <td>1 1/9 bushel cartons</td>\n",
       "      <td>PIE TYPE</td>\n",
       "      <td>BALTIMORE</td>\n",
       "      <td>15.00</td>\n",
       "      <td>15.0</td>\n",
       "      <td>2016-10-08</td>\n",
       "      <td>13.50</td>\n",
       "      <td>10</td>\n",
       "      <td>282</td>\n",
       "    </tr>\n",
       "    <tr>\n",
       "      <th>...</th>\n",
       "      <td>...</td>\n",
       "      <td>...</td>\n",
       "      <td>...</td>\n",
       "      <td>...</td>\n",
       "      <td>...</td>\n",
       "      <td>...</td>\n",
       "      <td>...</td>\n",
       "      <td>...</td>\n",
       "      <td>...</td>\n",
       "    </tr>\n",
       "    <tr>\n",
       "      <th>1738</th>\n",
       "      <td>1/2 bushel cartons</td>\n",
       "      <td>MINIATURE</td>\n",
       "      <td>ST. LOUIS</td>\n",
       "      <td>15.00</td>\n",
       "      <td>15.0</td>\n",
       "      <td>2016-09-30</td>\n",
       "      <td>30.00</td>\n",
       "      <td>9</td>\n",
       "      <td>274</td>\n",
       "    </tr>\n",
       "    <tr>\n",
       "      <th>1739</th>\n",
       "      <td>1/2 bushel cartons</td>\n",
       "      <td>MINIATURE</td>\n",
       "      <td>ST. LOUIS</td>\n",
       "      <td>13.75</td>\n",
       "      <td>15.0</td>\n",
       "      <td>2016-09-30</td>\n",
       "      <td>28.75</td>\n",
       "      <td>9</td>\n",
       "      <td>274</td>\n",
       "    </tr>\n",
       "    <tr>\n",
       "      <th>1740</th>\n",
       "      <td>1/2 bushel cartons</td>\n",
       "      <td>MINIATURE</td>\n",
       "      <td>ST. LOUIS</td>\n",
       "      <td>10.75</td>\n",
       "      <td>15.0</td>\n",
       "      <td>2016-09-30</td>\n",
       "      <td>25.75</td>\n",
       "      <td>9</td>\n",
       "      <td>274</td>\n",
       "    </tr>\n",
       "    <tr>\n",
       "      <th>1741</th>\n",
       "      <td>1/2 bushel cartons</td>\n",
       "      <td>MINIATURE</td>\n",
       "      <td>ST. LOUIS</td>\n",
       "      <td>12.00</td>\n",
       "      <td>12.0</td>\n",
       "      <td>2016-09-30</td>\n",
       "      <td>24.00</td>\n",
       "      <td>9</td>\n",
       "      <td>274</td>\n",
       "    </tr>\n",
       "    <tr>\n",
       "      <th>1742</th>\n",
       "      <td>1/2 bushel cartons</td>\n",
       "      <td>MINIATURE</td>\n",
       "      <td>ST. LOUIS</td>\n",
       "      <td>12.00</td>\n",
       "      <td>12.0</td>\n",
       "      <td>2016-09-30</td>\n",
       "      <td>24.00</td>\n",
       "      <td>9</td>\n",
       "      <td>274</td>\n",
       "    </tr>\n",
       "  </tbody>\n",
       "</table>\n",
       "<p>415 rows × 9 columns</p>\n",
       "</div>"
      ],
      "text/plain": [
       "                   Package    Variety  City Name  Low Price  High Price  \\\n",
       "70    1 1/9 bushel cartons   PIE TYPE  BALTIMORE      15.00        15.0   \n",
       "71    1 1/9 bushel cartons   PIE TYPE  BALTIMORE      18.00        18.0   \n",
       "72    1 1/9 bushel cartons   PIE TYPE  BALTIMORE      18.00        18.0   \n",
       "73    1 1/9 bushel cartons   PIE TYPE  BALTIMORE      17.00        17.0   \n",
       "74    1 1/9 bushel cartons   PIE TYPE  BALTIMORE      15.00        15.0   \n",
       "...                    ...        ...        ...        ...         ...   \n",
       "1738    1/2 bushel cartons  MINIATURE  ST. LOUIS      15.00        15.0   \n",
       "1739    1/2 bushel cartons  MINIATURE  ST. LOUIS      13.75        15.0   \n",
       "1740    1/2 bushel cartons  MINIATURE  ST. LOUIS      10.75        15.0   \n",
       "1741    1/2 bushel cartons  MINIATURE  ST. LOUIS      12.00        12.0   \n",
       "1742    1/2 bushel cartons  MINIATURE  ST. LOUIS      12.00        12.0   \n",
       "\n",
       "           Date  Price  Month  DayOfYear  \n",
       "70   2016-09-24  13.50      9        268  \n",
       "71   2016-09-24  16.20      9        268  \n",
       "72   2016-10-01  16.20     10        275  \n",
       "73   2016-10-01  15.30     10        275  \n",
       "74   2016-10-08  13.50     10        282  \n",
       "...         ...    ...    ...        ...  \n",
       "1738 2016-09-30  30.00      9        274  \n",
       "1739 2016-09-30  28.75      9        274  \n",
       "1740 2016-09-30  25.75      9        274  \n",
       "1741 2016-09-30  24.00      9        274  \n",
       "1742 2016-09-30  24.00      9        274  \n",
       "\n",
       "[415 rows x 9 columns]"
      ]
     },
     "execution_count": 972,
     "metadata": {},
     "output_type": "execute_result"
    }
   ],
   "source": [
    "pumpkins['Price'] = (pumpkins['Low Price'] + pumpkins['High Price']) / 2\n",
    "pumpkins.loc[pumpkins['Package'].str.contains('1 1/9'), 'Price'] /= (1 + 1/9)\n",
    "pumpkins.loc[pumpkins['Package'].str.contains('1/2'), 'Price'] /= (1/2)\n",
    "pumpkins['Date'] = pd.to_datetime(pumpkins['Date'])\n",
    "pumpkins['Month'] = pumpkins['Date'].dt.month\n",
    "pumpkins['DayOfYear'] = pumpkins['Date'].dt.dayofyear\n",
    "pumpkins"
   ]
  },
  {
   "cell_type": "code",
   "execution_count": 973,
   "metadata": {},
   "outputs": [],
   "source": [
    "def average_given_month(df, month):\n",
    "    avg = df[df['Month'] == month][['Price']].mean()\n",
    "    return pd.DataFrame({\"Average\":avg})"
   ]
  },
  {
   "cell_type": "code",
   "execution_count": 974,
   "metadata": {},
   "outputs": [
    {
     "data": {
      "text/html": [
       "<div>\n",
       "<style scoped>\n",
       "    .dataframe tbody tr th:only-of-type {\n",
       "        vertical-align: middle;\n",
       "    }\n",
       "\n",
       "    .dataframe tbody tr th {\n",
       "        vertical-align: top;\n",
       "    }\n",
       "\n",
       "    .dataframe thead th {\n",
       "        text-align: right;\n",
       "    }\n",
       "</style>\n",
       "<table border=\"1\" class=\"dataframe\">\n",
       "  <thead>\n",
       "    <tr style=\"text-align: right;\">\n",
       "      <th></th>\n",
       "      <th>Average</th>\n",
       "    </tr>\n",
       "  </thead>\n",
       "  <tbody>\n",
       "    <tr>\n",
       "      <th>Price</th>\n",
       "      <td>28.544384</td>\n",
       "    </tr>\n",
       "  </tbody>\n",
       "</table>\n",
       "</div>"
      ],
      "text/plain": [
       "         Average\n",
       "Price  28.544384"
      ]
     },
     "execution_count": 974,
     "metadata": {},
     "output_type": "execute_result"
    }
   ],
   "source": [
    "avg = average_given_month(pumpkins,9)\n",
    "avg"
   ]
  },
  {
   "cell_type": "markdown",
   "metadata": {},
   "source": [
    "Visualizing"
   ]
  },
  {
   "cell_type": "code",
   "execution_count": 975,
   "metadata": {},
   "outputs": [
    {
     "data": {
      "image/png": "[encoded data removed]",
      "text/plain": [
       "<Figure size 640x480 with 1 Axes>"
      ]
     },
     "metadata": {},
     "output_type": "display_data"
    }
   ],
   "source": [
    "price = pumpkins.Price\n",
    "month = pumpkins.Month\n",
    "plt.scatter(price, month)\n",
    "plt.show()"
   ]
  },
  {
   "cell_type": "code",
   "execution_count": 976,
   "metadata": {},
   "outputs": [
    {
     "data": {
      "text/plain": [
       "Text(0, 0.5, 'Pumpkin Price')"
      ]
     },
     "execution_count": 976,
     "metadata": {},
     "output_type": "execute_result"
    },
    {
     "data": {
      "image/png": "[encoded data removed]",
      "text/plain": [
       "<Figure size 640x480 with 1 Axes>"
      ]
     },
     "metadata": {},
     "output_type": "display_data"
    }
   ],
   "source": [
    "pumpkins.groupby(['Month'])['Price'].mean().plot(kind='bar')\n",
    "plt.ylabel(\"Pumpkin Price\")"
   ]
  },
  {
   "cell_type": "code",
   "execution_count": 977,
   "metadata": {},
   "outputs": [
    {
     "data": {
      "text/plain": [
       "<function matplotlib.pyplot.show(close=None, block=None)>"
      ]
     },
     "execution_count": 977,
     "metadata": {},
     "output_type": "execute_result"
    },
    {
     "data": {
      "image/png": "[encoded data removed]",
      "text/plain": [
       "<Figure size 640x480 with 1 Axes>"
      ]
     },
     "metadata": {},
     "output_type": "display_data"
    }
   ],
   "source": [
    "plt.scatter('DayOfYear','Price',data=pumpkins)\n",
    "plt.show"
   ]
  },
  {
   "cell_type": "code",
   "execution_count": 978,
   "metadata": {},
   "outputs": [
    {
     "data": {
      "image/png": "[encoded data removed]",
      "text/plain": [
       "<Figure size 640x480 with 1 Axes>"
      ]
     },
     "metadata": {},
     "output_type": "display_data"
    }
   ],
   "source": [
    "plt.scatter('Month','Price',data=pumpkins)\n",
    "plt.show()"
   ]
  },
  {
   "cell_type": "code",
   "execution_count": 979,
   "metadata": {},
   "outputs": [
    {
     "name": "stdout",
     "output_type": "stream",
     "text": [
      "-0.14912913634278593\n",
      "-0.1669009250593448\n"
     ]
    }
   ],
   "source": [
    "print(pumpkins['Month'].corr(pumpkins['Price']))\n",
    "print(pumpkins['DayOfYear'].corr(pumpkins['Price']))\n"
   ]
  },
  {
   "cell_type": "markdown",
   "metadata": {},
   "source": [
    "Are prices according to variety?"
   ]
  },
  {
   "cell_type": "code",
   "execution_count": 980,
   "metadata": {},
   "outputs": [
    {
     "name": "stderr",
     "output_type": "stream",
     "text": [
      "c:\\Users\\elwal\\anaconda3\\lib\\site-packages\\pandas\\plotting\\_matplotlib\\core.py:1114: UserWarning: No data for colormapping provided via 'c'. Parameters 'cmap' will be ignored\n",
      "  scatter = ax.scatter(\n"
     ]
    },
    {
     "data": {
      "image/png": "[encoded data removed]",
      "text/plain": [
       "<Figure size 640x480 with 1 Axes>"
      ]
     },
     "metadata": {},
     "output_type": "display_data"
    }
   ],
   "source": [
    "ax=None\n",
    "colors = ['red','blue','green','yellow']\n",
    "for i,var in enumerate(pumpkins['Variety'].unique()): #for all varieties plot price for days of the year\n",
    "    df = pumpkins[pumpkins['Variety']==var]\n",
    "    ax = df.plot.scatter('DayOfYear','Price',ax=ax,c=colors[i],label=var)"
   ]
  },
  {
   "cell_type": "code",
   "execution_count": 981,
   "metadata": {},
   "outputs": [
    {
     "data": {
      "text/plain": [
       "<AxesSubplot: xlabel='Variety'>"
      ]
     },
     "execution_count": 981,
     "metadata": {},
     "output_type": "execute_result"
    },
    {
     "data": {
      "image/png": "[encoded data removed]",
      "text/plain": [
       "<Figure size 640x480 with 1 Axes>"
      ]
     },
     "metadata": {},
     "output_type": "display_data"
    }
   ],
   "source": [
    "pumpkins.groupby('Variety')['Price'].mean().plot(kind='bar')\n"
   ]
  },
  {
   "cell_type": "code",
   "execution_count": 982,
   "metadata": {},
   "outputs": [
    {
     "name": "stdout",
     "output_type": "stream",
     "text": [
      "-0.26678559691441894\n"
     ]
    }
   ],
   "source": [
    "pie_pumpkins = pumpkins[pumpkins['Variety']=='PIE TYPE']\n",
    "print(pie_pumpkins['DayOfYear'].corr(pie_pumpkins['Price']))"
   ]
  },
  {
   "cell_type": "markdown",
   "metadata": {},
   "source": [
    "We see a correlation above so we can try linear regression to predict pumpkin prices"
   ]
  },
  {
   "cell_type": "code",
   "execution_count": 983,
   "metadata": {},
   "outputs": [
    {
     "name": "stderr",
     "output_type": "stream",
     "text": [
      "C:\\Users\\elwal\\AppData\\Local\\Temp\\ipykernel_18116\\3672826049.py:1: SettingWithCopyWarning: \n",
      "A value is trying to be set on a copy of a slice from a DataFrame\n",
      "\n",
      "See the caveats in the documentation: https://pandas.pydata.org/pandas-docs/stable/user_guide/indexing.html#returning-a-view-versus-a-copy\n",
      "  pie_pumpkins.dropna(inplace=True)\n"
     ]
    },
    {
     "data": {
      "text/html": [
       "<div>\n",
       "<style scoped>\n",
       "    .dataframe tbody tr th:only-of-type {\n",
       "        vertical-align: middle;\n",
       "    }\n",
       "\n",
       "    .dataframe tbody tr th {\n",
       "        vertical-align: top;\n",
       "    }\n",
       "\n",
       "    .dataframe thead th {\n",
       "        text-align: right;\n",
       "    }\n",
       "</style>\n",
       "<table border=\"1\" class=\"dataframe\">\n",
       "  <thead>\n",
       "    <tr style=\"text-align: right;\">\n",
       "      <th></th>\n",
       "      <th>Package</th>\n",
       "      <th>Variety</th>\n",
       "      <th>City Name</th>\n",
       "      <th>Low Price</th>\n",
       "      <th>High Price</th>\n",
       "      <th>Date</th>\n",
       "      <th>Price</th>\n",
       "      <th>Month</th>\n",
       "      <th>DayOfYear</th>\n",
       "    </tr>\n",
       "  </thead>\n",
       "  <tbody>\n",
       "    <tr>\n",
       "      <th>70</th>\n",
       "      <td>1 1/9 bushel cartons</td>\n",
       "      <td>PIE TYPE</td>\n",
       "      <td>BALTIMORE</td>\n",
       "      <td>15.0</td>\n",
       "      <td>15.0</td>\n",
       "      <td>2016-09-24</td>\n",
       "      <td>13.5</td>\n",
       "      <td>9</td>\n",
       "      <td>268</td>\n",
       "    </tr>\n",
       "    <tr>\n",
       "      <th>71</th>\n",
       "      <td>1 1/9 bushel cartons</td>\n",
       "      <td>PIE TYPE</td>\n",
       "      <td>BALTIMORE</td>\n",
       "      <td>18.0</td>\n",
       "      <td>18.0</td>\n",
       "      <td>2016-09-24</td>\n",
       "      <td>16.2</td>\n",
       "      <td>9</td>\n",
       "      <td>268</td>\n",
       "    </tr>\n",
       "    <tr>\n",
       "      <th>72</th>\n",
       "      <td>1 1/9 bushel cartons</td>\n",
       "      <td>PIE TYPE</td>\n",
       "      <td>BALTIMORE</td>\n",
       "      <td>18.0</td>\n",
       "      <td>18.0</td>\n",
       "      <td>2016-10-01</td>\n",
       "      <td>16.2</td>\n",
       "      <td>10</td>\n",
       "      <td>275</td>\n",
       "    </tr>\n",
       "    <tr>\n",
       "      <th>73</th>\n",
       "      <td>1 1/9 bushel cartons</td>\n",
       "      <td>PIE TYPE</td>\n",
       "      <td>BALTIMORE</td>\n",
       "      <td>17.0</td>\n",
       "      <td>17.0</td>\n",
       "      <td>2016-10-01</td>\n",
       "      <td>15.3</td>\n",
       "      <td>10</td>\n",
       "      <td>275</td>\n",
       "    </tr>\n",
       "    <tr>\n",
       "      <th>74</th>\n",
       "      <td>1 1/9 bushel cartons</td>\n",
       "      <td>PIE TYPE</td>\n",
       "      <td>BALTIMORE</td>\n",
       "      <td>15.0</td>\n",
       "      <td>15.0</td>\n",
       "      <td>2016-10-08</td>\n",
       "      <td>13.5</td>\n",
       "      <td>10</td>\n",
       "      <td>282</td>\n",
       "    </tr>\n",
       "    <tr>\n",
       "      <th>...</th>\n",
       "      <td>...</td>\n",
       "      <td>...</td>\n",
       "      <td>...</td>\n",
       "      <td>...</td>\n",
       "      <td>...</td>\n",
       "      <td>...</td>\n",
       "      <td>...</td>\n",
       "      <td>...</td>\n",
       "      <td>...</td>\n",
       "    </tr>\n",
       "    <tr>\n",
       "      <th>1626</th>\n",
       "      <td>1 1/9 bushel cartons</td>\n",
       "      <td>PIE TYPE</td>\n",
       "      <td>PHILADELPHIA</td>\n",
       "      <td>12.0</td>\n",
       "      <td>12.0</td>\n",
       "      <td>2016-10-22</td>\n",
       "      <td>10.8</td>\n",
       "      <td>10</td>\n",
       "      <td>296</td>\n",
       "    </tr>\n",
       "    <tr>\n",
       "      <th>1627</th>\n",
       "      <td>1 1/9 bushel cartons</td>\n",
       "      <td>PIE TYPE</td>\n",
       "      <td>PHILADELPHIA</td>\n",
       "      <td>12.0</td>\n",
       "      <td>12.0</td>\n",
       "      <td>2016-10-29</td>\n",
       "      <td>10.8</td>\n",
       "      <td>10</td>\n",
       "      <td>303</td>\n",
       "    </tr>\n",
       "    <tr>\n",
       "      <th>1628</th>\n",
       "      <td>1 1/9 bushel cartons</td>\n",
       "      <td>PIE TYPE</td>\n",
       "      <td>PHILADELPHIA</td>\n",
       "      <td>18.0</td>\n",
       "      <td>20.0</td>\n",
       "      <td>2017-08-26</td>\n",
       "      <td>17.1</td>\n",
       "      <td>8</td>\n",
       "      <td>238</td>\n",
       "    </tr>\n",
       "    <tr>\n",
       "      <th>1629</th>\n",
       "      <td>1 1/9 bushel cartons</td>\n",
       "      <td>PIE TYPE</td>\n",
       "      <td>PHILADELPHIA</td>\n",
       "      <td>18.0</td>\n",
       "      <td>18.0</td>\n",
       "      <td>2017-09-16</td>\n",
       "      <td>16.2</td>\n",
       "      <td>9</td>\n",
       "      <td>259</td>\n",
       "    </tr>\n",
       "    <tr>\n",
       "      <th>1630</th>\n",
       "      <td>1 1/9 bushel cartons</td>\n",
       "      <td>PIE TYPE</td>\n",
       "      <td>PHILADELPHIA</td>\n",
       "      <td>18.0</td>\n",
       "      <td>22.0</td>\n",
       "      <td>2017-09-23</td>\n",
       "      <td>18.0</td>\n",
       "      <td>9</td>\n",
       "      <td>266</td>\n",
       "    </tr>\n",
       "  </tbody>\n",
       "</table>\n",
       "<p>144 rows × 9 columns</p>\n",
       "</div>"
      ],
      "text/plain": [
       "                   Package   Variety     City Name  Low Price  High Price  \\\n",
       "70    1 1/9 bushel cartons  PIE TYPE     BALTIMORE       15.0        15.0   \n",
       "71    1 1/9 bushel cartons  PIE TYPE     BALTIMORE       18.0        18.0   \n",
       "72    1 1/9 bushel cartons  PIE TYPE     BALTIMORE       18.0        18.0   \n",
       "73    1 1/9 bushel cartons  PIE TYPE     BALTIMORE       17.0        17.0   \n",
       "74    1 1/9 bushel cartons  PIE TYPE     BALTIMORE       15.0        15.0   \n",
       "...                    ...       ...           ...        ...         ...   \n",
       "1626  1 1/9 bushel cartons  PIE TYPE  PHILADELPHIA       12.0        12.0   \n",
       "1627  1 1/9 bushel cartons  PIE TYPE  PHILADELPHIA       12.0        12.0   \n",
       "1628  1 1/9 bushel cartons  PIE TYPE  PHILADELPHIA       18.0        20.0   \n",
       "1629  1 1/9 bushel cartons  PIE TYPE  PHILADELPHIA       18.0        18.0   \n",
       "1630  1 1/9 bushel cartons  PIE TYPE  PHILADELPHIA       18.0        22.0   \n",
       "\n",
       "           Date  Price  Month  DayOfYear  \n",
       "70   2016-09-24   13.5      9        268  \n",
       "71   2016-09-24   16.2      9        268  \n",
       "72   2016-10-01   16.2     10        275  \n",
       "73   2016-10-01   15.3     10        275  \n",
       "74   2016-10-08   13.5     10        282  \n",
       "...         ...    ...    ...        ...  \n",
       "1626 2016-10-22   10.8     10        296  \n",
       "1627 2016-10-29   10.8     10        303  \n",
       "1628 2017-08-26   17.1      8        238  \n",
       "1629 2017-09-16   16.2      9        259  \n",
       "1630 2017-09-23   18.0      9        266  \n",
       "\n",
       "[144 rows x 9 columns]"
      ]
     },
     "execution_count": 983,
     "metadata": {},
     "output_type": "execute_result"
    }
   ],
   "source": [
    "pie_pumpkins.dropna(inplace=True)\n",
    "pie_pumpkins"
   ]
  },
  {
   "cell_type": "code",
   "execution_count": 984,
   "metadata": {},
   "outputs": [],
   "source": [
    "X = pie_pumpkins['DayOfYear'].to_numpy().reshape(-1,1) #we will train based on day of year\n",
    "y = pie_pumpkins['Price'] #the ground truth is the original prices which we aim to predict"
   ]
  },
  {
   "cell_type": "code",
   "execution_count": 985,
   "metadata": {},
   "outputs": [],
   "source": [
    "X_train, X_test, y_train, y_test = train_test_split(X, y, test_size=0.2)"
   ]
  },
  {
   "cell_type": "code",
   "execution_count": 986,
   "metadata": {},
   "outputs": [
    {
     "data": {
      "text/plain": [
       "LinearRegression()"
      ]
     },
     "execution_count": 986,
     "metadata": {},
     "output_type": "execute_result"
    }
   ],
   "source": [
    "model = LinearRegression()\n",
    "model.fit(X_train,y_train)"
   ]
  },
  {
   "cell_type": "code",
   "execution_count": 987,
   "metadata": {},
   "outputs": [
    {
     "data": {
      "text/plain": [
       "0.043080200504709065"
      ]
     },
     "execution_count": 987,
     "metadata": {},
     "output_type": "execute_result"
    }
   ],
   "source": [
    "pred = model.predict(X_test)\n",
    "model.score(X_test,y_test)"
   ]
  },
  {
   "cell_type": "code",
   "execution_count": 988,
   "metadata": {},
   "outputs": [
    {
     "name": "stdout",
     "output_type": "stream",
     "text": [
      "Mean error: 2.27 (14.3%)\n"
     ]
    }
   ],
   "source": [
    "mse = np.sqrt(mean_squared_error(y_test,pred))\n",
    "print(f'Mean error: {mse:3.3} ({mse/np.mean(pred)*100:3.3}%)')"
   ]
  },
  {
   "cell_type": "code",
   "execution_count": 989,
   "metadata": {},
   "outputs": [
    {
     "data": {
      "image/png": "[encoded data removed]",
      "text/plain": [
       "<Figure size 640x480 with 1 Axes>"
      ]
     },
     "metadata": {},
     "output_type": "display_data"
    }
   ],
   "source": [
    "plt.scatter(X_test,y_test, color = 'red')\n",
    "plt.plot(X_test,pred, color = 'green')\n",
    "plt.show()"
   ]
  },
  {
   "cell_type": "markdown",
   "metadata": {},
   "source": [
    "We note its not that accurate so we may want to try polynomial regression."
   ]
  },
  {
   "cell_type": "code",
   "execution_count": 990,
   "metadata": {},
   "outputs": [
    {
     "data": {
      "text/plain": [
       "Pipeline(steps=[('polynomialfeatures', PolynomialFeatures()),\n",
       "                ('linearregression', LinearRegression())])"
      ]
     },
     "execution_count": 990,
     "metadata": {},
     "output_type": "execute_result"
    }
   ],
   "source": [
    "model_2 = make_pipeline(PolynomialFeatures(2), LinearRegression()) #square the inputs added to together for example, (x+y+z)^2, then preform linear regression on that\n",
    "model_2.fit(X_train, y_train)"
   ]
  },
  {
   "cell_type": "code",
   "execution_count": 991,
   "metadata": {},
   "outputs": [
    {
     "data": {
      "text/plain": [
       "0.06761367993671474"
      ]
     },
     "execution_count": 991,
     "metadata": {},
     "output_type": "execute_result"
    }
   ],
   "source": [
    "pred_2 = model_2.predict(X_test)\n",
    "\n",
    "model_2.score(X_test,y_test)"
   ]
  },
  {
   "cell_type": "code",
   "execution_count": 992,
   "metadata": {},
   "outputs": [
    {
     "name": "stdout",
     "output_type": "stream",
     "text": [
      "Mean error: 2.24 (14.1%)\n"
     ]
    }
   ],
   "source": [
    "mse_2 = np.sqrt(mean_squared_error(y_test,pred_2))\n",
    "print(f'Mean error: {mse_2:3.3} ({mse_2/np.mean(pred_2)*100:3.3}%)')\n"
   ]
  },
  {
   "cell_type": "code",
   "execution_count": 993,
   "metadata": {},
   "outputs": [
    {
     "data": {
      "image/png": "[encoded data removed]",
      "text/plain": [
       "<Figure size 640x480 with 1 Axes>"
      ]
     },
     "metadata": {},
     "output_type": "display_data"
    }
   ],
   "source": [
    "plt.scatter(X_test,y_test, color = 'red')\n",
    "plt.plot(X_test,pred_2, color = 'green')\n",
    "plt.show()"
   ]
  },
  {
   "cell_type": "markdown",
   "metadata": {},
   "source": [
    "Is variety sufficient enough to predict price?"
   ]
  },
  {
   "cell_type": "code",
   "execution_count": 994,
   "metadata": {},
   "outputs": [
    {
     "data": {
      "text/plain": [
       "<AxesSubplot: xlabel='Variety'>"
      ]
     },
     "execution_count": 994,
     "metadata": {},
     "output_type": "execute_result"
    },
    {
     "data": {
      "image/png": "[encoded data removed]",
      "text/plain": [
       "<Figure size 640x480 with 1 Axes>"
      ]
     },
     "metadata": {},
     "output_type": "display_data"
    }
   ],
   "source": [
    "pumpkins.groupby('Variety')['Price'].mean().plot(kind = 'bar')"
   ]
  },
  {
   "cell_type": "code",
   "execution_count": 995,
   "metadata": {},
   "outputs": [
    {
     "name": "stdout",
     "output_type": "stream",
     "text": [
      "FAIRYTALE                   0.044396\n",
      "MINIATURE                   0.857832\n",
      "MIXED HEIRLOOM VARIETIES   -0.068122\n",
      "PIE TYPE                   -0.871526\n",
      "dtype: float64\n"
     ]
    }
   ],
   "source": [
    "var_one_hot = pd.get_dummies(pumpkins['Variety'])\n",
    "print(var_one_hot.corrwith(pumpkins['Price']))"
   ]
  },
  {
   "cell_type": "code",
   "execution_count": 996,
   "metadata": {},
   "outputs": [],
   "source": [
    "X,y = var_one_hot, pumpkins['Price']\n",
    "X_train, X_test, y_train, y_test = train_test_split(X,y,test_size=0.2)"
   ]
  },
  {
   "cell_type": "code",
   "execution_count": 997,
   "metadata": {},
   "outputs": [
    {
     "data": {
      "text/plain": [
       "LinearRegression()"
      ]
     },
     "execution_count": 997,
     "metadata": {},
     "output_type": "execute_result"
    }
   ],
   "source": [
    "model_3 = LinearRegression()\n",
    "model_3.fit(X_train,y_train)"
   ]
  },
  {
   "cell_type": "code",
   "execution_count": 998,
   "metadata": {},
   "outputs": [
    {
     "data": {
      "text/plain": [
       "0.7729974794319043"
      ]
     },
     "execution_count": 998,
     "metadata": {},
     "output_type": "execute_result"
    }
   ],
   "source": [
    "model_3.score(X_test,y_test)"
   ]
  },
  {
   "cell_type": "markdown",
   "metadata": {},
   "source": [
    "Lets do a bunch of features together"
   ]
  },
  {
   "cell_type": "code",
   "execution_count": 999,
   "metadata": {},
   "outputs": [],
   "source": [
    "X =pd.get_dummies(pumpkins['Variety']).join(pumpkins['Month']).join(pd.get_dummies(pumpkins['City Name'])).join(pd.get_dummies(pumpkins['Package']))\n",
    "y = pumpkins['Price']\n",
    "X_train, X_test, y_train, y_test = train_test_split(X,y, test_size= 0.2)"
   ]
  },
  {
   "cell_type": "code",
   "execution_count": 1000,
   "metadata": {},
   "outputs": [
    {
     "data": {
      "text/plain": [
       "Pipeline(steps=[('polynomialfeatures', PolynomialFeatures()),\n",
       "                ('linearregression', LinearRegression())])"
      ]
     },
     "execution_count": 1000,
     "metadata": {},
     "output_type": "execute_result"
    }
   ],
   "source": [
    "model_4 = make_pipeline(PolynomialFeatures(2),LinearRegression())\n",
    "model_4.fit(X_train,y_train)"
   ]
  },
  {
   "cell_type": "code",
   "execution_count": 1001,
   "metadata": {},
   "outputs": [
    {
     "name": "stdout",
     "output_type": "stream",
     "text": [
      "0.9588109517467943\n",
      "0.9520210235632296\n"
     ]
    }
   ],
   "source": [
    "pred_4 = model_4.predict(X_test)\n",
    "print(model_4.score(X_train, y_train))\n",
    "print(model_4.score(X_test, y_test))"
   ]
  },
  {
   "cell_type": "code",
   "execution_count": 1002,
   "metadata": {},
   "outputs": [
    {
     "name": "stdout",
     "output_type": "stream",
     "text": [
      "Mean error: 2.28 (8.41%)\n"
     ]
    }
   ],
   "source": [
    "mse = np.sqrt(mean_squared_error(y_test,pred_4))\n",
    "print(f'Mean error: {mse:3.3} ({mse/np.mean(pred_4)*100:3.3}%)')"
   ]
  }
 ],
 "metadata": {
  "kernelspec": {
   "display_name": "base",
   "language": "python",
   "name": "python3"
  },
  "language_info": {
   "codemirror_mode": {
    "name": "ipython",
    "version": 3
   },
   "file_extension": ".py",
   "mimetype": "text/x-python",
   "name": "python",
   "nbconvert_exporter": "python",
   "pygments_lexer": "ipython3",
   "version": "3.9.13"
  }
 },
 "nbformat": 4,
 "nbformat_minor": 2
}
